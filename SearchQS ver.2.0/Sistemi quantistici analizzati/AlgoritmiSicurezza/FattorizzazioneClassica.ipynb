{
 "cells": [
  {
   "cell_type": "code",
   "execution_count": 6,
   "id": "afa7a165-ca84-4fce-b11d-4c6a99fd1684",
   "metadata": {},
   "outputs": [],
   "source": [
    "# https://liceocuneo.it/oddenino/informatica/python/scomposizioni-py/"
   ]
  },
  {
   "cell_type": "code",
   "execution_count": 7,
   "id": "6cc92907-ac41-4760-9db1-aff6682341cf",
   "metadata": {},
   "outputs": [
    {
     "name": "stdout",
     "output_type": "stream",
     "text": [
      "Scomposizione in fattori di un numero n\n"
     ]
    },
    {
     "name": "stdin",
     "output_type": "stream",
     "text": [
      "n?  15\n"
     ]
    },
    {
     "name": "stdout",
     "output_type": "stream",
     "text": [
      "15 \t | 3\n",
      "5 \t | 5\n",
      "1\n",
      "[3, 5]\n"
     ]
    }
   ],
   "source": [
    "print(\"Scomposizione in fattori di un numero n\")\n",
    "n = int(input(\"n? \"))\n",
    "fattori = []\n",
    "d = 2\n",
    "while n > 1:\n",
    "    if n % d == 0:\n",
    "        print(n, \"\\t |\", d)\n",
    "        n //= d   \n",
    "        fattori.append(d)\n",
    "    else:\n",
    "        d += 1\n",
    "print(n)\n",
    "print(fattori)"
   ]
  },
  {
   "cell_type": "code",
   "execution_count": null,
   "id": "e9000755-bbbe-4074-9a54-d6f0941b35dd",
   "metadata": {},
   "outputs": [],
   "source": []
  }
 ],
 "metadata": {
  "kernelspec": {
   "display_name": "Python 3 (ipykernel)",
   "language": "python",
   "name": "python3"
  },
  "language_info": {
   "codemirror_mode": {
    "name": "ipython",
    "version": 3
   },
   "file_extension": ".py",
   "mimetype": "text/x-python",
   "name": "python",
   "nbconvert_exporter": "python",
   "pygments_lexer": "ipython3",
   "version": "3.12.4"
  }
 },
 "nbformat": 4,
 "nbformat_minor": 5
}
