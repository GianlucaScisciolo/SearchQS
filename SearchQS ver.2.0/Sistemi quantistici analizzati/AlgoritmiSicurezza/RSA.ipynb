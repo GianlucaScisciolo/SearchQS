{
 "cells": [
  {
   "cell_type": "code",
   "execution_count": 38,
   "id": "186e32d6-ba33-4535-883d-25e30aeb6dd4",
   "metadata": {},
   "outputs": [],
   "source": [
    "# https://www.mat.uniroma1.it/sites/default/files/PLINIOSENIORE-CrittografiaRSA.pdf"
   ]
  },
  {
   "cell_type": "code",
   "execution_count": 39,
   "id": "9ec681b3-dcbf-4674-a2c4-39cedcb5f28e",
   "metadata": {},
   "outputs": [],
   "source": [
    "import random\n",
    "import utils as utils"
   ]
  },
  {
   "cell_type": "code",
   "execution_count": 40,
   "id": "9652af32-3812-4934-abfe-d4d2acbb2b4c",
   "metadata": {},
   "outputs": [],
   "source": [
    "PRIME_NUMBERS = [\n",
    "    2, 3, 5, 7, 11, 13, 17, 19, 23, 29, 31, 37,\t41,\t43,\t47, 53,\t59, 61,\t67, 71,\t73,\t79,\t83, 89,\t97\n",
    "]"
   ]
  },
  {
   "cell_type": "code",
   "execution_count": 41,
   "id": "f3e549f0-6fb4-4a9c-b22a-01166906c580",
   "metadata": {},
   "outputs": [],
   "source": [
    "# Funzione che ritorna il M.C.D tra a e b tramite l'algoritmo di Euclide\n",
    "def gcd(a, b):\n",
    "    while b != 0:\n",
    "        a, b = b, a % b\n",
    "    return a"
   ]
  },
  {
   "cell_type": "code",
   "execution_count": 42,
   "id": "687e11e5-4a8c-454c-a077-1e4f0ba9e2e4",
   "metadata": {},
   "outputs": [],
   "source": [
    "# Funzione ch implementa l'algoritmo esteso di Euclide per trovare l'inverso moltiplicativo di due numeri\n",
    "def multiplicative_inverse(e, z):\n",
    "    d = 0\n",
    "    x1 = 0\n",
    "    x2 = 1\n",
    "    y1 = 1\n",
    "    temp_z = z\n",
    "    while e > 0:\n",
    "        temp1 = temp_z//e\n",
    "        temp2 = temp_z - temp1 * e\n",
    "        temp_z = e\n",
    "        e = temp2\n",
    "        x = x2 - temp1 * x1\n",
    "        y = d - temp1 * y1\n",
    "        x2 = x1\n",
    "        x1 = x\n",
    "        d = y1\n",
    "        y1 = y\n",
    "    if temp_z == 1:\n",
    "        return d + z"
   ]
  },
  {
   "cell_type": "code",
   "execution_count": 43,
   "id": "99e2bd87-228d-4157-847e-69314ad0d45d",
   "metadata": {},
   "outputs": [],
   "source": [
    "# Funzione che ritorna True se num è primo e False se num non è primo\n",
    "def is_prime(num):\n",
    "    if num == 2:\n",
    "        return True\n",
    "    if num < 2 or num % 2 == 0:\n",
    "        return False\n",
    "    for n in range(3, int(num**0.5)+2, 2):\n",
    "        if num % n == 0:\n",
    "            return False\n",
    "    return True"
   ]
  },
  {
   "cell_type": "code",
   "execution_count": 44,
   "id": "bf4029c1-d275-47b3-935a-bc26d1916e86",
   "metadata": {},
   "outputs": [],
   "source": [
    "# funzione per generare la chiae pubblica e la chiave privata\n",
    "def keys_generation(p=0, q=0):\n",
    "    \"\"\"\n",
    "    Chiave Pubblica: è formata da 2 numeri (n; e)\n",
    "    Chiave Privata: è formata da 2 numeri (n; d)\n",
    "    \"\"\"\n",
    "    \"\"\"\n",
    "    1: Si scelgono due numeri primi (p, q) abbastanza grandi (maggiori di 300 cifre). Si calcola il loro prodotto chiamato anche modulo n = p*q \n",
    "       (ovviamente la fattorizzazione è segreta) e si pone z = (p-1)*(q-1). La funzione z coincide con la funzione di Eulero quando n è il prodotto \n",
    "       di due numeri primi, tale funzione associa a un numero intero n il numero dei numeri interi co-primi con n e minori di n compreso l'1. \n",
    "       Se n è un numero primo z(n) = n-1.\n",
    "    \"\"\"\n",
    "    min_index = 0\n",
    "    max_index = len(PRIME_NUMBERS) - 1\n",
    "    if p == 0:\n",
    "        p = PRIME_NUMBERS[random.randint(min_index, max_index)]\n",
    "    if q == 0:\n",
    "        q = -1\n",
    "        while True:\n",
    "            q = PRIME_NUMBERS[random.randint(min_index, max_index)]\n",
    "            if q != p:\n",
    "                break\n",
    "    n = p * q\n",
    "    z = -1\n",
    "    if is_prime(n):\n",
    "        z = n-1\n",
    "    else:\n",
    "        z = (p-1) * (q-1)\n",
    "    \n",
    "    \"\"\"\n",
    "    2: Si sceglie poi un numero e chiamato esponente pubblico, coprimo con z e più piccolo di z stesso \n",
    "       (e non deve necessariamente essere primo).\n",
    "    \"\"\"\n",
    "    e = -1\n",
    "    while(True):\n",
    "        e = random.randint(1, z-1)\n",
    "        # Utilizziamo l'algoritmo di Euclide M.C.D per verificare che e, z siano coprimi\n",
    "        if gcd(e, z) == 1:\n",
    "            break\n",
    "    \"\"\"\n",
    "    3: Si sceglie il numero d chiamato esponente privato tale che il suo prodotto con e sia congruo a 1 mod(z),\n",
    "       cioè d ∙ e ≡ 1 mod(z)\n",
    "    \"\"\"\n",
    "    d = multiplicative_inverse(e, z)\n",
    "    public_key = (n, e)\n",
    "    private_key = (n, d)\n",
    "    return {\"public_key\": public_key, \"private_key\": private_key}"
   ]
  },
  {
   "cell_type": "code",
   "execution_count": 45,
   "id": "dd5b324a-f464-4304-b06a-88b4d0acdcd9",
   "metadata": {},
   "outputs": [],
   "source": [
    "def encrypt_message(public_key, plain_message):\n",
    "    # Unpack the key into it's components\n",
    "    (n, e) = public_key\n",
    "    # Convert each letter in the plaintext to numbers based on the character using a^b mod m\n",
    "    cipher = [pow(ord(char), e, n) for char in plain_message]\n",
    "    # Return the array of bytes\n",
    "    return cipher"
   ]
  },
  {
   "cell_type": "code",
   "execution_count": 46,
   "id": "37ed1010-4f65-437f-82d4-c3aeac199db7",
   "metadata": {},
   "outputs": [],
   "source": [
    "def decrypt_message(private_key, cipher_message):\n",
    "    # Unpack the key into its components\n",
    "    (n, d) = private_key\n",
    "    # Generate the plaintext based on the ciphertext and key using a^b mod m\n",
    "    aux = [str(pow(char, d, n)) for char in cipher_message]\n",
    "    # Return the array of bytes as a string\n",
    "    plain = [chr(int(char2)) for char2 in aux]\n",
    "    return ''.join(plain) "
   ]
  },
  {
   "cell_type": "code",
   "execution_count": 47,
   "id": "45a3b27f-4e38-40b0-b6f0-953f97f9204b",
   "metadata": {},
   "outputs": [],
   "source": [
    "def rsa_attack(public_key, cipher_message, factorization_algorithm_name):\n",
    "    n = public_key[0]\n",
    "    e = public_key[1]\n",
    "    fattori_n = []\n",
    "    if factorization_algorithm_name == 'fattorizzazione_classica':\n",
    "        fattori_n = utils.fattorizzazione_classica(n)\n",
    "    p = fattori_n[0]\n",
    "    q = fattori_n[1]\n",
    "    print(p, q)\n",
    "    z = -1\n",
    "    if is_prime(n):\n",
    "        z = n-1\n",
    "    else:\n",
    "        z = (p-1) * (q-1)\n",
    "    print(z)\n",
    "    d = multiplicative_inverse(e, z)\n",
    "    print(d)\n",
    "    private_key_obtained = (n, d)\n",
    "    print(private_key_obtained)\n",
    "    hacked_message = decrypt_message(private_key_obtained, cipher_message)\n",
    "    return (private_key_obtained, hacked_message)"
   ]
  },
  {
   "cell_type": "code",
   "execution_count": 48,
   "id": "fe67bfa4-5eaf-42eb-be66-608133e9d44a",
   "metadata": {},
   "outputs": [
    {
     "name": "stdout",
     "output_type": "stream",
     "text": [
      "Esempio 1:\n",
      "Uso RSA:\n",
      "Messaggio da inviare: Hello, World!\n",
      "Messaggio cifrato: [7494, 101, 7361, 7361, 7355, 1702, 550, 6667, 7355, 4767, 7361, 1064, 7987]\n",
      "Messaggio decifrato ottenuto: Hello, World!\n",
      "\n",
      "Prova attacco RSA:\n",
      "89 97\n",
      "8448\n",
      "4921\n",
      "(8633, 4921)\n",
      "Messaggio da hackerare: [7494, 101, 7361, 7361, 7355, 1702, 550, 6667, 7355, 4767, 7361, 1064, 7987]\n",
      "Chiave privata ottenuta: (8633, 4921)\n",
      "Messaggio hackerato: Hello, World!\n"
     ]
    }
   ],
   "source": [
    "print(\"Esempio 1:\")\n",
    "print(\"Uso RSA:\")\n",
    "keys = keys_generation(89, 97)\n",
    "plain_message = \"Hello, World!\"\n",
    "cipher_message = encrypt_message(keys[\"public_key\"], plain_message)\n",
    "post_decrypt_message = decrypt_message(keys[\"private_key\"], cipher_message)\n",
    "\n",
    "print(f\"Messaggio da inviare: {plain_message}\")\n",
    "print(f\"Messaggio cifrato: {cipher_message}\")\n",
    "print(f\"Messaggio decifrato ottenuto: {post_decrypt_message}\")\n",
    "\n",
    "print(\"\\nProva attacco RSA:\")\n",
    "(private_key_obtained, hacked_message) = rsa_attack(keys['public_key'], cipher_message, 'fattorizzazione_classica')\n",
    "print(f\"Messaggio da hackerare: {cipher_message}\")\n",
    "print(f\"Chiave privata ottenuta: {private_key_obtained}\")\n",
    "print(f\"Messaggio hackerato: {hacked_message}\")"
   ]
  }
 ],
 "metadata": {
  "kernelspec": {
   "display_name": "Python 3 (ipykernel)",
   "language": "python",
   "name": "python3"
  },
  "language_info": {
   "codemirror_mode": {
    "name": "ipython",
    "version": 3
   },
   "file_extension": ".py",
   "mimetype": "text/x-python",
   "name": "python",
   "nbconvert_exporter": "python",
   "pygments_lexer": "ipython3",
   "version": "3.12.4"
  }
 },
 "nbformat": 4,
 "nbformat_minor": 5
}
