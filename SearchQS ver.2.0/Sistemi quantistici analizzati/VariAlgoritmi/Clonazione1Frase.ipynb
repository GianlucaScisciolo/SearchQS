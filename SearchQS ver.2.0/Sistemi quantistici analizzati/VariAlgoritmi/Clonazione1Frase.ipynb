{
 "cells": [
  {
   "cell_type": "code",
   "execution_count": 1,
   "id": "0f752220-6145-4551-85e9-436d572e2b0d",
   "metadata": {},
   "outputs": [
    {
     "name": "stdout",
     "output_type": "stream",
     "text": [
      "Frase da clonare: Hello, World!\n",
      "Frase clonata: Hello, World!\n"
     ]
    }
   ],
   "source": [
    "frase = \"Hello, World!\"\n",
    "frase_clonata = frase\n",
    "print(f\"Frase da clonare: {frase}\")\n",
    "print(f\"Frase clonata: {frase_clonata}\")"
   ]
  },
  {
   "cell_type": "code",
   "execution_count": null,
   "id": "427a47d6-e813-443c-9326-b3627034b026",
   "metadata": {},
   "outputs": [],
   "source": []
  }
 ],
 "metadata": {
  "kernelspec": {
   "display_name": "Python 3 (ipykernel)",
   "language": "python",
   "name": "python3"
  },
  "language_info": {
   "codemirror_mode": {
    "name": "ipython",
    "version": 3
   },
   "file_extension": ".py",
   "mimetype": "text/x-python",
   "name": "python",
   "nbconvert_exporter": "python",
   "pygments_lexer": "ipython3",
   "version": "3.12.4"
  }
 },
 "nbformat": 4,
 "nbformat_minor": 5
}
