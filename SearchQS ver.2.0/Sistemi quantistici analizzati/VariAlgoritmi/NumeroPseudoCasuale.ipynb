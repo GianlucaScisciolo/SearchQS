{
 "cells": [
  {
   "cell_type": "code",
   "execution_count": 1,
   "id": "142cce1b-34ad-474a-a885-44d70012d5e7",
   "metadata": {},
   "outputs": [],
   "source": [
    "import random"
   ]
  },
  {
   "cell_type": "code",
   "execution_count": 2,
   "id": "6ee76069-460c-4f68-a202-f2476edaaa6e",
   "metadata": {},
   "outputs": [
    {
     "name": "stdout",
     "output_type": "stream",
     "text": [
      "Numero pseudo-casuale:  25\n"
     ]
    }
   ],
   "source": [
    "# Genera un numero intero pseudo-casuale tra 0 e 31\n",
    "numero = random.randint(0, 31)\n",
    "print(\"Numero pseudo-casuale: \", numero)"
   ]
  },
  {
   "cell_type": "code",
   "execution_count": null,
   "id": "7c4cdad8-8457-4325-8693-98bc19c4b3bf",
   "metadata": {},
   "outputs": [],
   "source": []
  }
 ],
 "metadata": {
  "kernelspec": {
   "display_name": "Python 3 (ipykernel)",
   "language": "python",
   "name": "python3"
  },
  "language_info": {
   "codemirror_mode": {
    "name": "ipython",
    "version": 3
   },
   "file_extension": ".py",
   "mimetype": "text/x-python",
   "name": "python",
   "nbconvert_exporter": "python",
   "pygments_lexer": "ipython3",
   "version": "3.12.4"
  }
 },
 "nbformat": 4,
 "nbformat_minor": 5
}
