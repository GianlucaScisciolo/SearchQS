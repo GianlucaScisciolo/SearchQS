{
 "cells": [
  {
   "cell_type": "code",
   "execution_count": 1,
   "id": "cabc5c67-33b7-45f6-8efa-5f425d53fa8e",
   "metadata": {},
   "outputs": [],
   "source": [
    "import utils as utils"
   ]
  },
  {
   "cell_type": "code",
   "execution_count": 2,
   "id": "b1ceef50-506a-4ac6-993e-68888b4a0150",
   "metadata": {},
   "outputs": [],
   "source": [
    "def from_string_to_binary(string):\n",
    "    return ' '.join(format(ord(char), '08b') for char in string)"
   ]
  },
  {
   "cell_type": "code",
   "execution_count": 3,
   "id": "a6905c6a-0689-47ad-99c5-0947a65745e0",
   "metadata": {},
   "outputs": [],
   "source": [
    "def from_binary_to_string(binary_string):\n",
    "    binary_values = binary_string.split(' ')\n",
    "    ascii_characters = [chr(int(bv, 2)) for bv in binary_values]\n",
    "    return ''.join(ascii_characters)"
   ]
  },
  {
   "cell_type": "code",
   "execution_count": 4,
   "id": "365d9e1e-21fe-4853-9538-f80e8c399730",
   "metadata": {},
   "outputs": [
    {
     "name": "stdout",
     "output_type": "stream",
     "text": [
      "Frase da teletrasportare: Hello, World! = 01001000 01100101 01101100 01101100 01101111 00101100 00100000 01010111 01101111 01110010 01101100 01100100 00100001\n",
      "Frase teletrasportata: 01001000 01100101 01101100 01101100 01101111 00101100 00100000 01010111 01101111 01110010 01101100 01100100 00100001 = Hello, World!\n"
     ]
    }
   ],
   "source": [
    "frase_stringa = \"Hello, World!\"\n",
    "frase_binaria = from_string_to_binary(frase_stringa)\n",
    "frase_binaria_teletrasportata = \"\"\n",
    "for bit in frase_binaria:\n",
    "    if bit == ' ':\n",
    "        frase_binaria_teletrasportata += ' '\n",
    "    else:\n",
    "        frase_binaria_teletrasportata += utils.get_teleported_value(bit)\n",
    "frase_stringa_teletrasportata = from_binary_to_string(frase_binaria_teletrasportata)\n",
    "print(f\"Frase da teletrasportare: {frase_stringa} = {frase_binaria}\")\n",
    "print(f\"Frase teletrasportata: {frase_binaria_teletrasportata} = {frase_stringa_teletrasportata}\")"
   ]
  },
  {
   "cell_type": "code",
   "execution_count": null,
   "id": "408e22c9-312e-4134-914d-18b83c975cf0",
   "metadata": {},
   "outputs": [],
   "source": []
  }
 ],
 "metadata": {
  "kernelspec": {
   "display_name": "Python 3 (ipykernel)",
   "language": "python",
   "name": "python3"
  },
  "language_info": {
   "codemirror_mode": {
    "name": "ipython",
    "version": 3
   },
   "file_extension": ".py",
   "mimetype": "text/x-python",
   "name": "python",
   "nbconvert_exporter": "python",
   "pygments_lexer": "ipython3",
   "version": "3.12.4"
  }
 },
 "nbformat": 4,
 "nbformat_minor": 5
}
